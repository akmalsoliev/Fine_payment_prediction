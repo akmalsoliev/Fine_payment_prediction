{
 "cells": [
  {
   "cell_type": "code",
   "execution_count": 1,
   "metadata": {},
   "outputs": [],
   "source": [
    "import numpy as np\n",
    "import pandas as pd\n",
    "\n",
    "# Importing the Datasets\n",
    "train = pd.read_csv('readonly/train.csv', encoding=\"ISO-8859-1\", low_memory=False)\n",
    "test = pd.read_csv('readonly/test.csv', encoding=\"ISO-8859-1\", low_memory=False)"
   ]
  },
  {
   "cell_type": "code",
   "execution_count": 2,
   "metadata": {},
   "outputs": [],
   "source": [
    "# Columns that are shared between two dataframes\n",
    "desired_columns = ['inspector_name', 'zip_code', 'disposition', 'fine_amount', \n",
    "                   'admin_fee', 'state_fee', 'late_fee']\n",
    "\n",
    "# Train column\n",
    "train_columns = desired_columns + ['compliance']\n",
    "\n",
    "# Columns for onehotencorder\n",
    "onehot_columns = ['inspector_name', 'zip_code', 'disposition']\n",
    "\n",
    "# Will be used in the final result as index\n",
    "result_index = test.loc[:, 'ticket_id']\n",
    "\n",
    "# Creating view of the existing DataFrame\n",
    "train = train.loc[:, train_columns]\n",
    "test = test.loc[:, desired_columns]"
   ]
  },
  {
   "cell_type": "code",
   "execution_count": 3,
   "metadata": {},
   "outputs": [
    {
     "data": {
      "text/html": [
       "<div>\n",
       "<style scoped>\n",
       "    .dataframe tbody tr th:only-of-type {\n",
       "        vertical-align: middle;\n",
       "    }\n",
       "\n",
       "    .dataframe tbody tr th {\n",
       "        vertical-align: top;\n",
       "    }\n",
       "\n",
       "    .dataframe thead th {\n",
       "        text-align: right;\n",
       "    }\n",
       "</style>\n",
       "<table border=\"1\" class=\"dataframe\">\n",
       "  <thead>\n",
       "    <tr style=\"text-align: right;\">\n",
       "      <th></th>\n",
       "      <th>inspector_name</th>\n",
       "      <th>zip_code</th>\n",
       "      <th>disposition</th>\n",
       "      <th>fine_amount</th>\n",
       "      <th>admin_fee</th>\n",
       "      <th>state_fee</th>\n",
       "      <th>late_fee</th>\n",
       "      <th>compliance</th>\n",
       "    </tr>\n",
       "  </thead>\n",
       "  <tbody>\n",
       "    <tr>\n",
       "      <th>1</th>\n",
       "      <td>Williams, Darrin</td>\n",
       "      <td>48208</td>\n",
       "      <td>Responsible by Determination</td>\n",
       "      <td>750.0</td>\n",
       "      <td>20</td>\n",
       "      <td>10</td>\n",
       "      <td>75.0</td>\n",
       "      <td>1.0</td>\n",
       "    </tr>\n",
       "    <tr>\n",
       "      <th>6</th>\n",
       "      <td>Williams, Darrin</td>\n",
       "      <td>48038</td>\n",
       "      <td>Responsible by Default</td>\n",
       "      <td>750.0</td>\n",
       "      <td>20</td>\n",
       "      <td>10</td>\n",
       "      <td>75.0</td>\n",
       "      <td>0.0</td>\n",
       "    </tr>\n",
       "    <tr>\n",
       "      <th>7</th>\n",
       "      <td>Williams, Darrin</td>\n",
       "      <td>48211</td>\n",
       "      <td>Responsible by Default</td>\n",
       "      <td>100.0</td>\n",
       "      <td>20</td>\n",
       "      <td>10</td>\n",
       "      <td>10.0</td>\n",
       "      <td>0.0</td>\n",
       "    </tr>\n",
       "    <tr>\n",
       "      <th>8</th>\n",
       "      <td>Williams, Darrin</td>\n",
       "      <td>48211</td>\n",
       "      <td>Responsible by Default</td>\n",
       "      <td>100.0</td>\n",
       "      <td>20</td>\n",
       "      <td>10</td>\n",
       "      <td>10.0</td>\n",
       "      <td>0.0</td>\n",
       "    </tr>\n",
       "    <tr>\n",
       "      <th>9</th>\n",
       "      <td>Williams, Darrin</td>\n",
       "      <td>48205</td>\n",
       "      <td>Responsible by Default</td>\n",
       "      <td>750.0</td>\n",
       "      <td>20</td>\n",
       "      <td>10</td>\n",
       "      <td>75.0</td>\n",
       "      <td>0.0</td>\n",
       "    </tr>\n",
       "    <tr>\n",
       "      <th>...</th>\n",
       "      <td>...</td>\n",
       "      <td>...</td>\n",
       "      <td>...</td>\n",
       "      <td>...</td>\n",
       "      <td>...</td>\n",
       "      <td>...</td>\n",
       "      <td>...</td>\n",
       "      <td>...</td>\n",
       "    </tr>\n",
       "    <tr>\n",
       "      <th>250277</th>\n",
       "      <td>McClain, Melvin</td>\n",
       "      <td>48227</td>\n",
       "      <td>Responsible by Default</td>\n",
       "      <td>500.0</td>\n",
       "      <td>20</td>\n",
       "      <td>10</td>\n",
       "      <td>50.0</td>\n",
       "      <td>0.0</td>\n",
       "    </tr>\n",
       "    <tr>\n",
       "      <th>250278</th>\n",
       "      <td>Zizi, Josue</td>\n",
       "      <td>48235</td>\n",
       "      <td>Responsible by Default</td>\n",
       "      <td>200.0</td>\n",
       "      <td>20</td>\n",
       "      <td>10</td>\n",
       "      <td>20.0</td>\n",
       "      <td>0.0</td>\n",
       "    </tr>\n",
       "    <tr>\n",
       "      <th>250287</th>\n",
       "      <td>Lusk, Gertrina</td>\n",
       "      <td>48227</td>\n",
       "      <td>Responsible by Default</td>\n",
       "      <td>1000.0</td>\n",
       "      <td>20</td>\n",
       "      <td>10</td>\n",
       "      <td>100.0</td>\n",
       "      <td>0.0</td>\n",
       "    </tr>\n",
       "    <tr>\n",
       "      <th>250288</th>\n",
       "      <td>Bell, Maydell</td>\n",
       "      <td>48204</td>\n",
       "      <td>Responsible by Default</td>\n",
       "      <td>500.0</td>\n",
       "      <td>20</td>\n",
       "      <td>10</td>\n",
       "      <td>50.0</td>\n",
       "      <td>0.0</td>\n",
       "    </tr>\n",
       "    <tr>\n",
       "      <th>250290</th>\n",
       "      <td>Johnson, Lois</td>\n",
       "      <td>48212</td>\n",
       "      <td>Responsible by Determination</td>\n",
       "      <td>200.0</td>\n",
       "      <td>20</td>\n",
       "      <td>10</td>\n",
       "      <td>0.0</td>\n",
       "      <td>1.0</td>\n",
       "    </tr>\n",
       "  </tbody>\n",
       "</table>\n",
       "<p>142309 rows × 8 columns</p>\n",
       "</div>"
      ],
      "text/plain": [
       "          inspector_name zip_code                   disposition  fine_amount  \\\n",
       "1       Williams, Darrin    48208  Responsible by Determination        750.0   \n",
       "6       Williams, Darrin    48038        Responsible by Default        750.0   \n",
       "7       Williams, Darrin    48211        Responsible by Default        100.0   \n",
       "8       Williams, Darrin    48211        Responsible by Default        100.0   \n",
       "9       Williams, Darrin    48205        Responsible by Default        750.0   \n",
       "...                  ...      ...                           ...          ...   \n",
       "250277   McClain, Melvin    48227        Responsible by Default        500.0   \n",
       "250278       Zizi, Josue    48235        Responsible by Default        200.0   \n",
       "250287    Lusk, Gertrina    48227        Responsible by Default       1000.0   \n",
       "250288     Bell, Maydell    48204        Responsible by Default        500.0   \n",
       "250290     Johnson, Lois    48212  Responsible by Determination        200.0   \n",
       "\n",
       "        admin_fee  state_fee  late_fee  compliance  \n",
       "1              20         10      75.0         1.0  \n",
       "6              20         10      75.0         0.0  \n",
       "7              20         10      10.0         0.0  \n",
       "8              20         10      10.0         0.0  \n",
       "9              20         10      75.0         0.0  \n",
       "...           ...        ...       ...         ...  \n",
       "250277         20         10      50.0         0.0  \n",
       "250278         20         10      20.0         0.0  \n",
       "250287         20         10     100.0         0.0  \n",
       "250288         20         10      50.0         0.0  \n",
       "250290         20         10       0.0         1.0  \n",
       "\n",
       "[142309 rows x 8 columns]"
      ]
     },
     "execution_count": 3,
     "metadata": {},
     "output_type": "execute_result"
    }
   ],
   "source": [
    "### Data cleaning\n",
    "\n",
    "# Dropping NA or empty values\n",
    "train.replace('nan', np.nan)\n",
    "train.dropna(subset=desired_columns + ['compliance'], inplace=True)\n",
    "\n",
    "# zip_code contained multiple zipcodes that werenot \n",
    "# corresponding to our requirements, hence, have been dropped.\n",
    "train = train[train['zip_code'].str.len() == 5]\n",
    "train = train[train['zip_code'].str.startswith('48')]\n",
    "\n",
    "# fine_amount contained multiple missentries of *10 or /10, this is normalizing those errors\n",
    "train['fine_amount'] = train['fine_amount'].apply(lambda x: x/10 if x>1000 else x)\n",
    "train['fine_amount'] = train['fine_amount'].apply(lambda x: x*10 if x<10 else x)\n",
    "\n",
    "train"
   ]
  },
  {
   "cell_type": "code",
   "execution_count": 4,
   "metadata": {},
   "outputs": [
    {
     "name": "stdout",
     "output_type": "stream",
     "text": [
      "late_fee       7.191793\n",
      "compliance     3.258489\n",
      "fine_amount    2.789244\n",
      "zip_code       2.207884\n",
      "admin_fee      0.000000\n",
      "state_fee      0.000000\n",
      "dtype: float64\n"
     ]
    },
    {
     "data": {
      "image/png": "[encoded data removed]",
      "text/plain": [
       "<Figure size 576x288 with 2 Axes>"
      ]
     },
     "metadata": {
      "needs_background": "light"
     },
     "output_type": "display_data"
    },
    {
     "name": "stdout",
     "output_type": "stream",
     "text": [
      "Log1P results for late_fee: -0.7829471160991703\n"
     ]
    }
   ],
   "source": [
    "# Analyzing the data, attempting to find an improvements that can be made on the data\n",
    "\n",
    "print(train.skew().sort_values(ascending=False))\n",
    "\n",
    "import matplotlib.pyplot as plt\n",
    "\n",
    "fig, (ax1, ax2) = plt.subplots(1, 2, figsize=(8, 4))\n",
    "ax1.hist(train['late_fee'])\n",
    "ax2.hist(train['late_fee'].apply(np.log1p))\n",
    "ax1.set(title='Source'), ax2.set(title='Log1P')\n",
    "plt.show()\n",
    "\n",
    "# Log1p provides us with much better skew\n",
    "\n",
    "print(\"Log1P results for late_fee:\", train['late_fee'].apply(np.log1p).skew())\n",
    "\n",
    "train['late_fee']= train['late_fee'].apply(np.log1p)"
   ]
  },
  {
   "cell_type": "code",
   "execution_count": 5,
   "metadata": {},
   "outputs": [
    {
     "data": {
      "text/plain": [
       "matrix([[ 0.        ,  0.        ,  0.        , ..., 20.        ,\n",
       "         10.        ,  4.33073334],\n",
       "        [ 0.        ,  0.        ,  0.        , ..., 20.        ,\n",
       "         10.        ,  4.33073334],\n",
       "        [ 0.        ,  0.        ,  0.        , ..., 20.        ,\n",
       "         10.        ,  2.39789527],\n",
       "        ...,\n",
       "        [ 0.        ,  0.        ,  0.        , ..., 20.        ,\n",
       "         10.        ,  4.61512052],\n",
       "        [ 0.        ,  0.        ,  0.        , ..., 20.        ,\n",
       "         10.        ,  3.93182563],\n",
       "        [ 0.        ,  0.        ,  0.        , ..., 20.        ,\n",
       "         10.        ,  0.        ]])"
      ]
     },
     "execution_count": 5,
     "metadata": {},
     "output_type": "execute_result"
    }
   ],
   "source": [
    "from sklearn.preprocessing import OneHotEncoder\n",
    "from sklearn.compose import make_column_transformer\n",
    "\n",
    "X = train[desired_columns] # selecting our columns\n",
    "y_train = train['compliance'] # target column\n",
    "\n",
    "# Construction of make_column_transformer with specification of columns to be selected for OHE\n",
    "columns_tran = make_column_transformer((OneHotEncoder(handle_unknown='ignore'), onehot_columns), \n",
    "                                       remainder = 'passthrough')\n",
    "# For clarification purposes seperated fit and transform, could of used fit_transform function\n",
    "columns_tran.fit(X)\n",
    "X_train = columns_tran.transform(X) \n",
    "\n",
    "X_train.todense()"
   ]
  },
  {
   "cell_type": "code",
   "execution_count": 6,
   "metadata": {},
   "outputs": [
    {
     "name": "stdout",
     "output_type": "stream",
     "text": [
      "4.785003551355693\n"
     ]
    },
    {
     "data": {
      "image/png": "[encoded data removed]",
      "text/plain": [
       "<Figure size 576x288 with 2 Axes>"
      ]
     },
     "metadata": {
      "needs_background": "light"
     },
     "output_type": "display_data"
    }
   ],
   "source": [
    "# Data cleaning our test dataset\n",
    "test.fillna('missing_values', inplace=True)\n",
    "\n",
    "print(test['late_fee'].skew())\n",
    "\n",
    "fig, (ax1, ax2) = plt.subplots(1, 2, figsize=(8, 4))\n",
    "ax1.hist(test['late_fee'])\n",
    "ax2.hist(test['late_fee'].apply(np.log1p))\n",
    "ax1.set(title='Source'), ax2.set(title='Log1P')\n",
    "plt.show()\n",
    "\n",
    "test['late_fee'] = test['late_fee'].apply(np.log1p)"
   ]
  },
  {
   "cell_type": "code",
   "execution_count": 7,
   "metadata": {},
   "outputs": [
    {
     "data": {
      "text/plain": [
       "matrix([[ 0.        ,  0.        ,  0.        , ..., 20.        ,\n",
       "         10.        ,  3.04452244],\n",
       "        [ 0.        ,  0.        ,  0.        , ..., 20.        ,\n",
       "         10.        ,  4.61512052],\n",
       "        [ 0.        ,  0.        ,  0.        , ..., 20.        ,\n",
       "         10.        ,  2.39789527],\n",
       "        ...,\n",
       "        [ 0.        ,  0.        ,  0.        , ..., 20.        ,\n",
       "         10.        ,  2.39789527],\n",
       "        [ 0.        ,  0.        ,  0.        , ..., 20.        ,\n",
       "         10.        ,  2.39789527],\n",
       "        [ 0.        ,  0.        ,  0.        , ..., 20.        ,\n",
       "         10.        ,  0.        ]])"
      ]
     },
     "execution_count": 7,
     "metadata": {},
     "output_type": "execute_result"
    }
   ],
   "source": [
    "# Transforming the dataset into OHE matrix\n",
    "X_test = columns_tran.transform(test)\n",
    "\n",
    "X_test.todense()"
   ]
  },
  {
   "cell_type": "code",
   "execution_count": 9,
   "metadata": {},
   "outputs": [
    {
     "name": "stderr",
     "output_type": "stream",
     "text": [
      "C:\\Users\\solie\\anaconda3\\envs\\Data-Science\\lib\\site-packages\\sklearn\\linear_model\\_sag.py:328: ConvergenceWarning: The max_iter was reached which means the coef_ did not converge\n",
      "  warnings.warn(\"The max_iter was reached which means \"\n",
      "C:\\Users\\solie\\anaconda3\\envs\\Data-Science\\lib\\site-packages\\sklearn\\linear_model\\_sag.py:328: ConvergenceWarning: The max_iter was reached which means the coef_ did not converge\n",
      "  warnings.warn(\"The max_iter was reached which means \"\n",
      "C:\\Users\\solie\\anaconda3\\envs\\Data-Science\\lib\\site-packages\\sklearn\\linear_model\\_sag.py:328: ConvergenceWarning: The max_iter was reached which means the coef_ did not converge\n",
      "  warnings.warn(\"The max_iter was reached which means \"\n",
      "C:\\Users\\solie\\anaconda3\\envs\\Data-Science\\lib\\site-packages\\sklearn\\linear_model\\_sag.py:328: ConvergenceWarning: The max_iter was reached which means the coef_ did not converge\n",
      "  warnings.warn(\"The max_iter was reached which means \"\n",
      "C:\\Users\\solie\\anaconda3\\envs\\Data-Science\\lib\\site-packages\\sklearn\\linear_model\\_sag.py:328: ConvergenceWarning: The max_iter was reached which means the coef_ did not converge\n",
      "  warnings.warn(\"The max_iter was reached which means \"\n",
      "C:\\Users\\solie\\anaconda3\\envs\\Data-Science\\lib\\site-packages\\sklearn\\linear_model\\_sag.py:328: ConvergenceWarning: The max_iter was reached which means the coef_ did not converge\n",
      "  warnings.warn(\"The max_iter was reached which means \"\n",
      "C:\\Users\\solie\\anaconda3\\envs\\Data-Science\\lib\\site-packages\\sklearn\\linear_model\\_sag.py:328: ConvergenceWarning: The max_iter was reached which means the coef_ did not converge\n",
      "  warnings.warn(\"The max_iter was reached which means \"\n",
      "C:\\Users\\solie\\anaconda3\\envs\\Data-Science\\lib\\site-packages\\scipy\\optimize\\linesearch.py:437: LineSearchWarning: Rounding errors prevent the line search from converging\n",
      "  warn(msg, LineSearchWarning)\n",
      "C:\\Users\\solie\\anaconda3\\envs\\Data-Science\\lib\\site-packages\\scipy\\optimize\\linesearch.py:327: LineSearchWarning: The line search algorithm did not converge\n",
      "  warn('The line search algorithm did not converge', LineSearchWarning)\n",
      "C:\\Users\\solie\\anaconda3\\envs\\Data-Science\\lib\\site-packages\\sklearn\\utils\\optimize.py:195: UserWarning: Line Search failed\n",
      "  warnings.warn('Line Search failed')\n",
      "C:\\Users\\solie\\anaconda3\\envs\\Data-Science\\lib\\site-packages\\sklearn\\linear_model\\_sag.py:328: ConvergenceWarning: The max_iter was reached which means the coef_ did not converge\n",
      "  warnings.warn(\"The max_iter was reached which means \"\n",
      "C:\\Users\\solie\\anaconda3\\envs\\Data-Science\\lib\\site-packages\\sklearn\\linear_model\\_sag.py:328: ConvergenceWarning: The max_iter was reached which means the coef_ did not converge\n",
      "  warnings.warn(\"The max_iter was reached which means \"\n",
      "C:\\Users\\solie\\anaconda3\\envs\\Data-Science\\lib\\site-packages\\sklearn\\linear_model\\_sag.py:328: ConvergenceWarning: The max_iter was reached which means the coef_ did not converge\n",
      "  warnings.warn(\"The max_iter was reached which means \"\n"
     ]
    },
    {
     "data": {
      "text/plain": [
       "GridSearchCV(estimator=LogisticRegression(),\n",
       "             param_grid={'C': [0.1, 0.5, 1, 100], 'max_iter': [5000],\n",
       "                         'solver': ['newton-cg', 'lbfgs', 'liblinear', 'sag',\n",
       "                                    'saga']},\n",
       "             scoring='roc_auc')"
      ]
     },
     "execution_count": 9,
     "metadata": {},
     "output_type": "execute_result"
    }
   ],
   "source": [
    "# Models\n",
    "\n",
    "from sklearn.model_selection import GridSearchCV\n",
    "\n",
    "\n",
    "## RandomForest\n",
    "# from sklearn.ensemble import RandomForestClassifier\n",
    "# clr = RandomForestClassifier(n_jobs=-1, random_state=0) # Bad result, confusion matrix result: [131760, 37], [9196, 1316]\n",
    "# Previous calculations have been performed and the best depth resulted in being 20 and n_estimators of 100\n",
    "# depth, n_estimators = [None, 1, 10, 20], [10, 50, 100, 500]\n",
    "# param = {'n_estimators': [200], 'max_depth': [20]} # RandomForest\n",
    "# grid_model = GridSearchCV(clr, param_grid=param, scoring='roc_auc')\n",
    "# grid_model.fit(X_train, y_train)\n",
    "# Randomforest has been abandond to check for LinearSVC and see the results of it\n",
    "\n",
    "\n",
    "### LinearSVC\n",
    "# from sklearn.svm import LinearSVC\n",
    "# clr = LinearSVC(C=0.1, max_iter=5000) # Worse result\n",
    "# param = {'C': [0.1, 0.5, 1, 100], 'max_iter': [3000, 5000, 10000]}\n",
    "# grid_model = GridSearchCV(clr, param_grid=param, scoring='roc_auc')\n",
    "# grid_model.fit(X_train, y_train)\n",
    "# # LinearSVC produced worse results: [131776,     21], [ 10253,    259]\n",
    "\n",
    "### LogisticRegression\n",
    "from sklearn.linear_model import LogisticRegression\n",
    "clr = LogisticRegression()\n",
    "param = {'C': [0.1, 0.5, 1, 100], 'solver': ['newton-cg', 'lbfgs', 'liblinear', 'sag', 'saga'], 'max_iter': [5000]}\n",
    "grid_model = GridSearchCV(clr, param_grid=param, scoring='roc_auc')\n",
    "grid_model.fit(X_train, y_train)\n"
   ]
  },
  {
   "cell_type": "code",
   "execution_count": 22,
   "metadata": {},
   "outputs": [
    {
     "name": "stdout",
     "output_type": "stream",
     "text": [
      "Best parameters:  {'C': 0.1, 'max_iter': 5000, 'solver': 'saga'}\n"
     ]
    }
   ],
   "source": [
    "print('Best parameters: ', grid_model.best_params_)\n",
    "\n",
    "with open('best_params.txt', 'a') as file:\n",
    "    print('Best params for {} were: {}'.format(clr, grid_model.best_params_), file=file)"
   ]
  },
  {
   "cell_type": "code",
   "execution_count": 2,
   "metadata": {},
   "outputs": [
    {
     "ename": "PermissionError",
     "evalue": "[Errno 13] Permission denied: 'ML_results'",
     "output_type": "error",
     "traceback": [
      "\u001b[1;31m---------------------------------------------------------------------------\u001b[0m",
      "\u001b[1;31mPermissionError\u001b[0m                           Traceback (most recent call last)",
      "\u001b[1;32m<ipython-input-2-6ce0fc290f5e>\u001b[0m in \u001b[0;36m<module>\u001b[1;34m\u001b[0m\n\u001b[0;32m      4\u001b[0m \u001b[1;33m\u001b[0m\u001b[0m\n\u001b[0;32m      5\u001b[0m \u001b[0mname\u001b[0m \u001b[1;33m=\u001b[0m \u001b[1;34m''\u001b[0m \u001b[1;31m#input model name\u001b[0m\u001b[1;33m\u001b[0m\u001b[1;33m\u001b[0m\u001b[0m\n\u001b[1;32m----> 6\u001b[1;33m \u001b[1;32mwith\u001b[0m \u001b[0mopen\u001b[0m\u001b[1;33m(\u001b[0m\u001b[0mPath\u001b[0m\u001b[1;33m(\u001b[0m\u001b[1;33m)\u001b[0m\u001b[1;33m.\u001b[0m\u001b[0mjoinpath\u001b[0m\u001b[1;33m(\u001b[0m\u001b[1;34m'ML_results'\u001b[0m\u001b[1;33m,\u001b[0m \u001b[0mname\u001b[0m\u001b[1;33m)\u001b[0m\u001b[1;33m,\u001b[0m \u001b[1;34m'rb'\u001b[0m\u001b[1;33m)\u001b[0m \u001b[1;32mas\u001b[0m \u001b[0mfile\u001b[0m\u001b[1;33m:\u001b[0m\u001b[1;33m\u001b[0m\u001b[1;33m\u001b[0m\u001b[0m\n\u001b[0m\u001b[0;32m      7\u001b[0m     \u001b[0mgrid_model1\u001b[0m \u001b[1;33m=\u001b[0m \u001b[0mpickle\u001b[0m\u001b[1;33m.\u001b[0m\u001b[0mload\u001b[0m\u001b[1;33m(\u001b[0m\u001b[0mfile\u001b[0m\u001b[1;33m)\u001b[0m\u001b[1;33m\u001b[0m\u001b[1;33m\u001b[0m\u001b[0m\n",
      "\u001b[1;31mPermissionError\u001b[0m: [Errno 13] Permission denied: 'ML_results'"
     ]
    }
   ],
   "source": [
    "# # Load previously saved model:\n",
    "import pickle\n",
    "from pathlib import Path\n",
    "\n",
    "name = '' #input model name\n",
    "with open(Path().joinpath('ML_results', name), 'rb') as file:\n",
    "    grid_model1 = pickle.load(file)"
   ]
  },
  {
   "cell_type": "code",
   "execution_count": 34,
   "metadata": {},
   "outputs": [
    {
     "data": {
      "text/plain": [
       "array([[131607,    190],\n",
       "       [  9000,   1512]], dtype=int64)"
      ]
     },
     "execution_count": 34,
     "metadata": {},
     "output_type": "execute_result"
    }
   ],
   "source": [
    "from sklearn.metrics import confusion_matrix\n",
    "\n",
    "conf_mat = grid_model.predict(X_train)\n",
    "\n",
    "confusion = confusion_matrix(y_train, conf_mat)\n",
    "\n",
    "with open('best_params.txt', 'w') as file:\n",
    "    conf_matrix = 'Confusion matrix: {}'.format(str(confusion).replace('\\n', ' '))\n",
    "    print(conf_matrix, file=file)\n",
    "    if confusion[0, 0] < confusion[0, 1] or confusion[1, 0] > confusion[1, 1]:\n",
    "        print('Unsatisfactory', file=file)\n",
    "    print('\\n', file=file)\n",
    "    \n",
    "confusion"
   ]
  },
  {
   "cell_type": "code",
   "execution_count": 43,
   "metadata": {},
   "outputs": [],
   "source": [
    "# Saving the result\n",
    "import pickle \n",
    "\n",
    "name = str(clr).replace('()', '')\n",
    "\n",
    "\n",
    "with open(Path().joinpath('ML_results', name), 'wb') as file:\n",
    "    pickle.dump(grid_model, file)"
   ]
  },
  {
   "cell_type": "code",
   "execution_count": 21,
   "metadata": {},
   "outputs": [
    {
     "data": {
      "text/html": [
       "<div>\n",
       "<style scoped>\n",
       "    .dataframe tbody tr th:only-of-type {\n",
       "        vertical-align: middle;\n",
       "    }\n",
       "\n",
       "    .dataframe tbody tr th {\n",
       "        vertical-align: top;\n",
       "    }\n",
       "\n",
       "    .dataframe thead th {\n",
       "        text-align: right;\n",
       "    }\n",
       "</style>\n",
       "<table border=\"1\" class=\"dataframe\">\n",
       "  <thead>\n",
       "    <tr style=\"text-align: right;\">\n",
       "      <th></th>\n",
       "      <th>LogisticRegression probablity</th>\n",
       "    </tr>\n",
       "    <tr>\n",
       "      <th>ticket_id</th>\n",
       "      <th></th>\n",
       "    </tr>\n",
       "  </thead>\n",
       "  <tbody>\n",
       "    <tr>\n",
       "      <th>284932</th>\n",
       "      <td>0.028835</td>\n",
       "    </tr>\n",
       "    <tr>\n",
       "      <th>285362</th>\n",
       "      <td>0.024037</td>\n",
       "    </tr>\n",
       "    <tr>\n",
       "      <th>285361</th>\n",
       "      <td>0.050641</td>\n",
       "    </tr>\n",
       "    <tr>\n",
       "      <th>285338</th>\n",
       "      <td>0.041028</td>\n",
       "    </tr>\n",
       "    <tr>\n",
       "      <th>285346</th>\n",
       "      <td>0.064329</td>\n",
       "    </tr>\n",
       "    <tr>\n",
       "      <th>...</th>\n",
       "      <td>...</td>\n",
       "    </tr>\n",
       "    <tr>\n",
       "      <th>376496</th>\n",
       "      <td>0.017889</td>\n",
       "    </tr>\n",
       "    <tr>\n",
       "      <th>376497</th>\n",
       "      <td>0.017889</td>\n",
       "    </tr>\n",
       "    <tr>\n",
       "      <th>376499</th>\n",
       "      <td>0.046444</td>\n",
       "    </tr>\n",
       "    <tr>\n",
       "      <th>376500</th>\n",
       "      <td>0.040446</td>\n",
       "    </tr>\n",
       "    <tr>\n",
       "      <th>369851</th>\n",
       "      <td>0.330436</td>\n",
       "    </tr>\n",
       "  </tbody>\n",
       "</table>\n",
       "<p>61001 rows × 1 columns</p>\n",
       "</div>"
      ],
      "text/plain": [
       "           LogisticRegression probablity\n",
       "ticket_id                               \n",
       "284932                          0.028835\n",
       "285362                          0.024037\n",
       "285361                          0.050641\n",
       "285338                          0.041028\n",
       "285346                          0.064329\n",
       "...                                  ...\n",
       "376496                          0.017889\n",
       "376497                          0.017889\n",
       "376499                          0.046444\n",
       "376500                          0.040446\n",
       "369851                          0.330436\n",
       "\n",
       "[61001 rows x 1 columns]"
      ]
     },
     "execution_count": 21,
     "metadata": {},
     "output_type": "execute_result"
    }
   ],
   "source": [
    "y_scores = grid_model.best_estimator_.predict_proba(X_test)\n",
    "result = pd.DataFrame(y_scores[:, 1], index = result_index, columns = [f'{name} probablity'])\n",
    "\n",
    "result"
   ]
  },
  {
   "cell_type": "code",
   "execution_count": null,
   "metadata": {},
   "outputs": [],
   "source": []
  }
 ],
 "metadata": {
  "kernelspec": {
   "display_name": "Python 3",
   "language": "python",
   "name": "python3"
  },
  "language_info": {
   "codemirror_mode": {
    "name": "ipython",
    "version": 3
   },
   "file_extension": ".py",
   "mimetype": "text/x-python",
   "name": "python",
   "nbconvert_exporter": "python",
   "pygments_lexer": "ipython3",
   "version": "3.8.8"
  },
  "notify_time": "10"
 },
 "nbformat": 4,
 "nbformat_minor": 4
}
